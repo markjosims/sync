{
 "cells": [
  {
   "cell_type": "code",
   "execution_count": 1,
   "metadata": {},
   "outputs": [],
   "source": [
    "import pandas as pd\n",
    "from standardize_daw import format_daw\n",
    "from standardize_hup_yhp import format_hup, format_yhp\n",
    "from standardize_ndb import format_ndb_eppsob, format_ndb_m05\n",
    "from standardize_chars import basic_format"
   ]
  },
  {
   "cell_type": "code",
   "execution_count": 2,
   "metadata": {},
   "outputs": [
    {
     "output_type": "execute_result",
     "data": {
      "text/plain": "  gloss_pt   gloss_en         mbj_rc_m05 mbj_rc_eppsob mbj_rn_m05  daw_m05  \\\n0    beiju  flatbread                 --                       --  bǎ:ʔ ̚   \n1   comida       food                 --                       --    wɛ̌:d   \n2     goma    tapioca  ʃɛ̃jnũ:h; ʔenũh                    nũ:h   nũ̌:h   \n3   girino    tadpole                 --                       --      nud   \n4      rã       frog                 --                  cʼʌ̰: j  cʼâ: j   \n\n  daw_eppsob daw_orth_epps   hup_m05 hup_ramepps   yhp_m05 yhp_silva  \n0       bǎʔ         baá’  ɓǎ̰:ʔ ̚       bʼàʼ  ɓâ̰:ʔ ̚        NF  \n1       wěd         weéd    wɛ̌:dn         wed    wɛ̂:dn      wén  \n2      nũ̌h         nuúr    nũ̌:h        nùh    nũ̂:h      núh  \n3       nǔd         nuúd   nduɾudn      durùd        --    dud un  \n4       câj         çaày        --       sʼày        --     saáy  ",
      "text/html": "<div>\n<style scoped>\n    .dataframe tbody tr th:only-of-type {\n        vertical-align: middle;\n    }\n\n    .dataframe tbody tr th {\n        vertical-align: top;\n    }\n\n    .dataframe thead th {\n        text-align: right;\n    }\n</style>\n<table border=\"1\" class=\"dataframe\">\n  <thead>\n    <tr style=\"text-align: right;\">\n      <th></th>\n      <th>gloss_pt</th>\n      <th>gloss_en</th>\n      <th>mbj_rc_m05</th>\n      <th>mbj_rc_eppsob</th>\n      <th>mbj_rn_m05</th>\n      <th>daw_m05</th>\n      <th>daw_eppsob</th>\n      <th>daw_orth_epps</th>\n      <th>hup_m05</th>\n      <th>hup_ramepps</th>\n      <th>yhp_m05</th>\n      <th>yhp_silva</th>\n    </tr>\n  </thead>\n  <tbody>\n    <tr>\n      <th>0</th>\n      <td>beiju</td>\n      <td>flatbread</td>\n      <td>--</td>\n      <td></td>\n      <td>--</td>\n      <td>bǎ:ʔ ̚</td>\n      <td>bǎʔ</td>\n      <td>baá’</td>\n      <td>ɓǎ̰:ʔ ̚</td>\n      <td>bʼàʼ</td>\n      <td>ɓâ̰:ʔ ̚</td>\n      <td>NF</td>\n    </tr>\n    <tr>\n      <th>1</th>\n      <td>comida</td>\n      <td>food</td>\n      <td>--</td>\n      <td></td>\n      <td>--</td>\n      <td>wɛ̌:d</td>\n      <td>wěd</td>\n      <td>weéd</td>\n      <td>wɛ̌:dn</td>\n      <td>wed</td>\n      <td>wɛ̂:dn</td>\n      <td>wén</td>\n    </tr>\n    <tr>\n      <th>2</th>\n      <td>goma</td>\n      <td>tapioca</td>\n      <td>ʃɛ̃jnũ:h; ʔenũh</td>\n      <td></td>\n      <td>nũ:h</td>\n      <td>nũ̌:h</td>\n      <td>nũ̌h</td>\n      <td>nuúr</td>\n      <td>nũ̌:h</td>\n      <td>nùh</td>\n      <td>nũ̂:h</td>\n      <td>núh</td>\n    </tr>\n    <tr>\n      <th>3</th>\n      <td>girino</td>\n      <td>tadpole</td>\n      <td>--</td>\n      <td></td>\n      <td>--</td>\n      <td>nud</td>\n      <td>nǔd</td>\n      <td>nuúd</td>\n      <td>nduɾudn</td>\n      <td>durùd</td>\n      <td>--</td>\n      <td>dud un</td>\n    </tr>\n    <tr>\n      <th>4</th>\n      <td>rã</td>\n      <td>frog</td>\n      <td>--</td>\n      <td></td>\n      <td>cʼʌ̰: j</td>\n      <td>cʼâ: j</td>\n      <td>câj</td>\n      <td>çaày</td>\n      <td>--</td>\n      <td>sʼày</td>\n      <td>--</td>\n      <td>saáy</td>\n    </tr>\n  </tbody>\n</table>\n</div>"
     },
     "metadata": {},
     "execution_count": 2
    }
   ],
   "source": [
    "cognates = pd.read_csv('epps_cognate_database.csv', keep_default_na=False)\n",
    "cognates.head()"
   ]
  },
  {
   "cell_type": "code",
   "execution_count": 3,
   "metadata": {
    "tags": []
   },
   "outputs": [
    {
     "output_type": "execute_result",
     "data": {
      "text/plain": "[&#39;&#39;,\n &#39;&#39;,\n &#39;&#39;,\n &#39;&#39;,\n &#39;&#39;,\n &#39;&#39;,\n &#39;&#39;,\n &#39;&#39;,\n &#39;&#39;,\n &#39;&#39;,\n &#39;kako:s ɨb&#39;,\n &#39;&#39;,\n &#39;&#39;,\n &#39;&#39;,\n &#39;&#39;,\n &#39;mabәgŋ&#39;,\n &#39;&#39;,\n &#39;&#39;,\n &#39;ajʼo:g&#39;,\n &#39;&#39;]"
     },
     "metadata": {},
     "execution_count": 3
    }
   ],
   "source": [
    "# ndb_epps\n",
    "ndb_eppsob_formatted = [format_ndb_eppsob(cog) for cog in cognates['mbj_rc_eppsob']]\n",
    "ndb_eppsob_formatted[:20]"
   ]
  },
  {
   "cell_type": "code",
   "execution_count": 4,
   "metadata": {
    "tags": []
   },
   "outputs": [
    {
     "output_type": "stream",
     "name": "stdout",
     "text": "[&#39;&#39;, &#39;&#39;, &#39;nũ:h&#39;, &#39;&#39;, &#39;cʼʌ̰: j&#39;, &#39;woh&#39;, &#39;jәkŋ&#39;, &#39;&#39;, &#39;c ʼapә :h&#39;, &#39;&#39;, &#39;kaku: ʃ&#39;, &#39;&#39;, &#39;&#39;, &#39;mĩjã:w&#39;, &#39;&#39;, &#39;wәbәgŋ&#39;, &#39;&#39;, &#39;wɔ̃hcʼɔ̃g&#39;, &#39;ʔajɔ̰:g&#39;, &#39;mĩʃi:ʃ&#39;]\n"
    },
    {
     "output_type": "execute_result",
     "data": {
      "text/plain": "[&#39;&#39;,\n &#39;&#39;,\n &#39;ʃɛ̃jnũ:h ʔenũh&#39;,\n &#39;&#39;,\n &#39;&#39;,\n &#39;woh&#39;,\n &#39;jәgŋ&#39;,\n &#39;jṵ:ʔ&#39;,\n &#39;c ʼapә ʔ&#39;,\n &#39;&#39;,\n &#39;kako: ʃ&#39;,\n &#39;&#39;,\n &#39;&#39;,\n &#39;mãjã:w&#39;,\n &#39;&#39;,\n &#39;mãbәgŋ&#39;,\n &#39;&#39;,\n &#39;wacʼɔ̃g&#39;,\n &#39;ʔajo̰:g&#39;,\n &#39;jãmãʃi:ʃ&#39;]"
     },
     "metadata": {},
     "execution_count": 4
    }
   ],
   "source": [
    "# ndb_m05\n",
    "ndb_rc_m05_formatted = [format_ndb_m05(cog) for cog in cognates['mbj_rc_m05']]\n",
    "ndb_rn_m05_formatted = [format_ndb_m05(cog) for cog in cognates['mbj_rn_m05']]\n",
    "print(ndb_rn_m05_formatted[:20])\n",
    "ndb_rc_m05_formatted[:20]"
   ]
  },
  {
   "cell_type": "code",
   "execution_count": 5,
   "metadata": {},
   "outputs": [
    {
     "output_type": "execute_result",
     "data": {
      "text/plain": "[&#39;bʼǎ̰:ʔ &#39;,\n &#39;wɛ̌:dn&#39;,\n &#39;nũ̌:h&#39;,\n &#39;nduɾudn&#39;,\n &#39;&#39;,\n &#39;woh&#39;,\n &#39;jәx&#39;,\n &#39;jǔ:h&#39;,\n &#39;&#39;,\n &#39;hũ̂:&#39;,\n &#39;&#39;,\n &#39;pû:gŋ&#39;,\n &#39;mɛ̃̌:t&#39;,\n &#39;&#39;,\n &#39;kʼaʲɟɲ&#39;,\n &#39;&#39;,\n &#39;mɛ̃hɛ̃̌:n&#39;,\n &#39;wɔ̃hcɔ̰̃k&#39;,\n &#39;dʲɔkpǒ:gŋ&#39;,\n &#39;&#39;]"
     },
     "metadata": {},
     "execution_count": 5
    }
   ],
   "source": [
    "# hup m05\n",
    "hup_m05_formatted = [basic_format(cog) fory cog in cognates['hup_m05']]\n",
    "hup_m05_formatted[:20]"
   ]
  },
  {
   "cell_type": "code",
   "execution_count": 6,
   "metadata": {},
   "outputs": [
    {
     "output_type": "execute_result",
     "data": {
      "text/plain": "[&#39;mbʼàʔ&#39;,\n &#39;wɛdn&#39;,\n &#39;nùh&#39;,\n &#39;nduɾùdn&#39;,\n &#39;sʼày&#39;,\n &#39;wóh&#39;,\n &#39;&#39;,\n &#39;&#39;,\n &#39;&#39;,\n &#39;NF&#39;,\n &#39;NF&#39;,\n &#39;pùgŋ&#39;,\n &#39;mɛ̀t&#39;,\n &#39;NF&#39;,\n &#39;&#39;,\n &#39;&#39;,\n &#39;mɛhɛ̀n&#39;,\n &#39;wᴐ̃hsᴐ̃́k&#39;,\n &#39;&#39;,\n &#39;&#39;]"
     },
     "metadata": {},
     "execution_count": 6
    }
   ],
   "source": [
    "# hup ramepps\n",
    "hup_ramepps_formatted = [format_hup(cog) for cog in cognates['hup_ramepps']]\n",
    "hup_ramepps_formatted[:20]"
   ]
  },
  {
   "cell_type": "code",
   "execution_count": 7,
   "metadata": {},
   "outputs": [
    {
     "output_type": "execute_result",
     "data": {
      "text/plain": "[&#39;NF&#39;,\n &#39;wɛ́dn&#39;,\n &#39;núh&#39;,\n &#39;ndud udn&#39;,\n &#39;saáy&#39;,\n &#39;wә&#39;,\n &#39;&#39;,\n &#39;&#39;,\n &#39;&#39;,\n &#39;hũh hũ&#39;,\n &#39;NF&#39;,\n &#39;púg&#39;,\n &#39;mɛ́t&#39;,\n &#39;NF&#39;,\n &#39;&#39;,\n &#39;&#39;,\n &#39;&#39;,\n &#39;&#39;,\n &#39;yᴐk&#39;,\n &#39;&#39;]"
     },
     "metadata": {},
     "execution_count": 7
    }
   ],
   "source": [
    "# yhp silva\n",
    "yhp_silva_formatted = [format_yhp(cog) for cog in cognates['yhp_silva']]\n",
    "yhp_silva_formatted[:20]"
   ]
  },
  {
   "cell_type": "code",
   "execution_count": 8,
   "metadata": {},
   "outputs": [
    {
     "output_type": "execute_result",
     "data": {
      "text/plain": "[&#39;bʼâ̰:ʔ &#39;,\n &#39;wɛ̂:dn&#39;,\n &#39;nũ̂:h&#39;,\n &#39;&#39;,\n &#39;&#39;,\n &#39;woh&#39;,\n &#39;&#39;,\n &#39;jǔ:h&#39;,\n &#39;&#39;,\n &#39;hũ̂:h&#39;,\n &#39;&#39;,\n &#39;pû:gŋ&#39;,\n &#39;mɛ̃̂:t&#39;,\n &#39;&#39;,\n &#39;kʼaʲɟɲ&#39;,\n &#39;&#39;,\n &#39;&#39;,\n &#39;&#39;,\n &#39;jɔ̂:k&#39;,\n &#39;&#39;]"
     },
     "metadata": {},
     "execution_count": 8
    }
   ],
   "source": [
    "# yhp m05\n",
    "yhp_m05_formatted = [basic_format(cog) for cog in cognates['yhp_m05']]\n",
    "yhp_m05_formatted[:20]"
   ]
  },
  {
   "cell_type": "code",
   "execution_count": 9,
   "metadata": {},
   "outputs": [
    {
     "output_type": "execute_result",
     "data": {
      "text/plain": "[&#39;bǎʔ&#39;,\n &#39;wěd&#39;,\n &#39;nũ̌h&#39;,\n &#39;ndǔd&#39;,\n &#39;câj&#39;,\n &#39;woh&#39;,\n &#39;jəx&#39;,\n &#39;jǔh&#39;,\n &#39;pə̌ʔ&#39;,\n &#39;hũ̂&#39;,\n &#39;&#39;,\n &#39;pǔg&#39;,\n &#39;mɛ̃̌t&#39;,\n &#39;&#39;,\n &#39;kaɟ&#39;,\n &#39;&#39;,\n &#39;&#39;,\n &#39;cɔ̃k&#39;,\n &#39;j’ɔ̌k&#39;,\n &#39;ʃîɟ&#39;]"
     },
     "metadata": {},
     "execution_count": 9
    }
   ],
   "source": [
    "# daw eppsob\n",
    "daw_eppsob_formatted = [format_daw(cog) for cog in cognates['daw_eppsob']]\n",
    "daw_eppsob_formatted[:20]"
   ]
  },
  {
   "cell_type": "code",
   "execution_count": 10,
   "metadata": {},
   "outputs": [
    {
     "output_type": "execute_result",
     "data": {
      "text/plain": "[&#39;bǎ:ʔ &#39;,\n &#39;wɛ̌:d&#39;,\n &#39;nũ̌:h&#39;,\n &#39;nud&#39;,\n &#39;cʼâ: j&#39;,\n &#39;woh&#39;,\n &#39;jəx&#39;,\n &#39;jǔ:h&#39;,\n &#39;pә̌:ʔ&#39;,\n &#39;hũ̂:&#39;,\n &#39;&#39;,\n &#39;pû:g&#39;,\n &#39;mɛ̃̌:t&#39;,\n &#39;&#39;,\n &#39;kʼaɟ&#39;,\n &#39;&#39;,\n &#39;hɛ̃̂:n&#39;,\n &#39;cʼɔ̰̃k&#39;,\n &#39;ʔjɔ̌:k&#39;,\n &#39;ʃî:ɟ&#39;]"
     },
     "metadata": {},
     "execution_count": 10
    }
   ],
   "source": [
    "# daw m05\n",
    "daw_m05_formatted = [basic_format(cog) for cog in cognates['daw_m05']]\n",
    "daw_m05_formatted[:20]"
   ]
  },
  {
   "cell_type": "code",
   "execution_count": 11,
   "metadata": {},
   "outputs": [
    {
     "output_type": "execute_result",
     "data": {
      "text/plain": "    gloss_en gloss_pt        ndb_rc_m05 ndb_rn_m05 ndb_rc_eppsob daw_eppsob  \\\n0  flatbread    beiju                                                  bǎʔ   \n1       food   comida                                                  wěd   \n2    tapioca     goma  ʃɛ̃jnũ:h ʔenũh      nũ:h                    nũ̌h   \n3    tadpole   girino                                                 ndǔd   \n4       frog      rã                      cʼʌ̰: j                     câj   \n\n   daw_m05 hup_ramepps   hup_m05 yhp_silva   yhp_m05  \n0   bǎ:ʔ       mbʼàʔ  bʼǎ̰:ʔ         NF  bʼâ̰:ʔ   \n1    wɛ̌:d        wɛdn    wɛ̌:dn     wɛ́dn    wɛ̂:dn  \n2   nũ̌:h        nùh    nũ̌:h      núh    nũ̂:h  \n3      nud    nduɾùdn   nduɾudn  ndud udn            \n4  cʼâ: j       sʼày               saáy            ",
      "text/html": "<div>\n<style scoped>\n    .dataframe tbody tr th:only-of-type {\n        vertical-align: middle;\n    }\n\n    .dataframe tbody tr th {\n        vertical-align: top;\n    }\n\n    .dataframe thead th {\n        text-align: right;\n    }\n</style>\n<table border=\"1\" class=\"dataframe\">\n  <thead>\n    <tr style=\"text-align: right;\">\n      <th></th>\n      <th>gloss_en</th>\n      <th>gloss_pt</th>\n      <th>ndb_rc_m05</th>\n      <th>ndb_rn_m05</th>\n      <th>ndb_rc_eppsob</th>\n      <th>daw_eppsob</th>\n      <th>daw_m05</th>\n      <th>hup_ramepps</th>\n      <th>hup_m05</th>\n      <th>yhp_silva</th>\n      <th>yhp_m05</th>\n    </tr>\n  </thead>\n  <tbody>\n    <tr>\n      <th>0</th>\n      <td>flatbread</td>\n      <td>beiju</td>\n      <td></td>\n      <td></td>\n      <td></td>\n      <td>bǎʔ</td>\n      <td>bǎ:ʔ</td>\n      <td>mbʼàʔ</td>\n      <td>bʼǎ̰:ʔ</td>\n      <td>NF</td>\n      <td>bʼâ̰:ʔ</td>\n    </tr>\n    <tr>\n      <th>1</th>\n      <td>food</td>\n      <td>comida</td>\n      <td></td>\n      <td></td>\n      <td></td>\n      <td>wěd</td>\n      <td>wɛ̌:d</td>\n      <td>wɛdn</td>\n      <td>wɛ̌:dn</td>\n      <td>wɛ́dn</td>\n      <td>wɛ̂:dn</td>\n    </tr>\n    <tr>\n      <th>2</th>\n      <td>tapioca</td>\n      <td>goma</td>\n      <td>ʃɛ̃jnũ:h ʔenũh</td>\n      <td>nũ:h</td>\n      <td></td>\n      <td>nũ̌h</td>\n      <td>nũ̌:h</td>\n      <td>nùh</td>\n      <td>nũ̌:h</td>\n      <td>núh</td>\n      <td>nũ̂:h</td>\n    </tr>\n    <tr>\n      <th>3</th>\n      <td>tadpole</td>\n      <td>girino</td>\n      <td></td>\n      <td></td>\n      <td></td>\n      <td>ndǔd</td>\n      <td>nud</td>\n      <td>nduɾùdn</td>\n      <td>nduɾudn</td>\n      <td>ndud udn</td>\n      <td></td>\n    </tr>\n    <tr>\n      <th>4</th>\n      <td>frog</td>\n      <td>rã</td>\n      <td></td>\n      <td>cʼʌ̰: j</td>\n      <td></td>\n      <td>câj</td>\n      <td>cʼâ: j</td>\n      <td>sʼày</td>\n      <td></td>\n      <td>saáy</td>\n      <td></td>\n    </tr>\n  </tbody>\n</table>\n</div>"
     },
     "metadata": {},
     "execution_count": 11
    }
   ],
   "source": [
    "formatted_df = pd.DataFrame(data={\n",
    "    \"gloss_en\": cognates['gloss_en'],\n",
    "    \"gloss_pt\": cognates['gloss_pt'],\n",
    "    \"ndb_rc_m05\": ndb_rc_m05_formatted,\n",
    "    \"ndb_rn_m05\": ndb_rn_m05_formatted,\n",
    "    \"ndb_rc_eppsob\": ndb_eppsob_formatted,\n",
    "    \"daw_eppsob\": daw_eppsob_formatted,\n",
    "    \"daw_m05\": daw_m05_formatted,\n",
    "    \"hup_ramepps\": hup_ramepps_formatted,\n",
    "    \"hup_m05\": hup_m05_formatted,\n",
    "    \"yhp_silva\": yhp_silva_formatted,\n",
    "    \"yhp_m05\": yhp_m05_formatted\n",
    "})\n",
    "formatted_df.head()"
   ]
  },
  {
   "cell_type": "code",
   "execution_count": 12,
   "metadata": {},
   "outputs": [],
   "source": [
    "formatted_df.to_csv('formatted_cognates.csv', index=False)"
   ]
  }
 ],
 "metadata": {
  "language_info": {
   "codemirror_mode": {
    "name": "ipython",
    "version": 3
   },
   "file_extension": ".py",
   "mimetype": "text/x-python",
   "name": "python",
   "nbconvert_exporter": "python",
   "pygments_lexer": "ipython3",
   "version": "3.6.7-final"
  },
  "orig_nbformat": 2,
  "kernelspec": {
   "name": "Python 3.6.7 64-bit",
   "display_name": "Python 3.6.7 64-bit",
   "metadata": {
    "interpreter": {
     "hash": "31f2aee4e71d21fbe5cf8b01ff0e069b9275f58929596ceb00d14d90e3e16cd6"
    }
   }
  }
 },
 "nbformat": 4,
 "nbformat_minor": 2
}