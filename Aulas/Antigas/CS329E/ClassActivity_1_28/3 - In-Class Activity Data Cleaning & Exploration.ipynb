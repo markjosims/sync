{
 "cells": [
  {
   "cell_type": "markdown",
   "metadata": {},
   "source": [
    "## Data Cleaning & Exploration Activity"
   ]
  },
  {
   "cell_type": "markdown",
   "metadata": {},
   "source": [
    "## 1. Data Cleaning\n",
    "\n",
    "Poor data quality can have an adverse effect on data mining. Some common data quality issues include missing values, incorrectly formatted data, noise, outliers, and duplicate data. There could be many other data quality issues as well. Here, we will experiment with detecting and alleviating some of these data quality problems. "
   ]
  },
  {
   "cell_type": "markdown",
   "metadata": {},
   "source": [
    "### 1.1 Cleaning the CSV file\n",
    "For this particular dataset, because it is quite small, some of the data cleaning can be done \"by hand\" in the csv file.\n",
    "\n",
    "Open the csv file and take a look at it. Manually clean up some of the data. Things to consider:\n",
    "* Make sure all of the numeric columns contain only numbers. Check the 'Age', 'Miles from Austin', 'Number of shoes', and 'How much cash' columns. Make sure they are all in the same units. \n",
    "\n",
    "* Replace any missing or unknown values with a '?'.\n",
    "\n",
    "* Save your cleaned data file as a .csv (this makes things easier than an .xlsx file).\n"
   ]
  },
  {
   "cell_type": "markdown",
   "metadata": {},
   "source": [
    "### 1.2 Reading data from a CSV file\n",
    "Read the cleaned csv file into a Pandas dataframe. Print out the shape of the dataframe and the head of the dataframe.\n",
    "\n",
    "You can find more on reading csv data in to a Pandas dataframe [here](http://pandas.pydata.org/pandas-docs/stable/generated/pandas.read_csv.html).\n",
    "Documentation for Pandas DataFrames is [here](http://pandas.pydata.org/pandas-docs/stable/reference/frame.html)."
   ]
  },
  {
   "cell_type": "code",
   "execution_count": 10,
   "metadata": {
    "scrolled": false
   },
   "outputs": [
    {
     "data": {
      "text/html": [
       "<div>\n",
       "<style scoped>\n",
       "    .dataframe tbody tr th:only-of-type {\n",
       "        vertical-align: middle;\n",
       "    }\n",
       "\n",
       "    .dataframe tbody tr th {\n",
       "        vertical-align: top;\n",
       "    }\n",
       "\n",
       "    .dataframe thead th {\n",
       "        text-align: right;\n",
       "    }\n",
       "</style>\n",
       "<table border=\"1\" class=\"dataframe\">\n",
       "  <thead>\n",
       "    <tr style=\"text-align: right;\">\n",
       "      <th></th>\n",
       "      <th>How old are you?</th>\n",
       "      <th>What year are you in school?</th>\n",
       "      <th>What is your major?</th>\n",
       "      <th>What is your hometown?</th>\n",
       "      <th>How many miles is your hometown from Austin?</th>\n",
       "      <th>How tall are you in inches?</th>\n",
       "      <th>What is your favorite color?</th>\n",
       "      <th>How many pairs of shoes do you own?</th>\n",
       "      <th>How many MINUTES did you spend exercising yesterday?</th>\n",
       "      <th>How many MINUTES did you spend on the computer yesterday?</th>\n",
       "      <th>How many HOURS did you sleep last night?</th>\n",
       "      <th>How many siblings do you have?</th>\n",
       "      <th>How much cash do you have on you right now?</th>\n",
       "      <th>Did you eat breakfast this morning?</th>\n",
       "    </tr>\n",
       "  </thead>\n",
       "  <tbody>\n",
       "    <tr>\n",
       "      <td>0</td>\n",
       "      <td>22</td>\n",
       "      <td>Senior</td>\n",
       "      <td>Fine Arts / Architecture</td>\n",
       "      <td>Austin, Texas</td>\n",
       "      <td>0</td>\n",
       "      <td>72.0</td>\n",
       "      <td>Sapphire blue</td>\n",
       "      <td>5</td>\n",
       "      <td>0</td>\n",
       "      <td>480</td>\n",
       "      <td>7.50</td>\n",
       "      <td>2</td>\n",
       "      <td>21.0</td>\n",
       "      <td>Not yet</td>\n",
       "    </tr>\n",
       "    <tr>\n",
       "      <td>1</td>\n",
       "      <td>22</td>\n",
       "      <td>Senior</td>\n",
       "      <td>Natural Sciences (&amp; Math) / Geosciences</td>\n",
       "      <td>Houston, TX</td>\n",
       "      <td>165.2</td>\n",
       "      <td>69.0</td>\n",
       "      <td>Blue</td>\n",
       "      <td>5</td>\n",
       "      <td>10</td>\n",
       "      <td>300</td>\n",
       "      <td>10.00</td>\n",
       "      <td>1</td>\n",
       "      <td>15.0</td>\n",
       "      <td>yes!</td>\n",
       "    </tr>\n",
       "    <tr>\n",
       "      <td>2</td>\n",
       "      <td>21</td>\n",
       "      <td>Senior</td>\n",
       "      <td>Liberal Arts</td>\n",
       "      <td>Houston</td>\n",
       "      <td>165</td>\n",
       "      <td>68.0</td>\n",
       "      <td>Red</td>\n",
       "      <td>15</td>\n",
       "      <td>45</td>\n",
       "      <td>120</td>\n",
       "      <td>360.00</td>\n",
       "      <td>2</td>\n",
       "      <td>120.0</td>\n",
       "      <td>No</td>\n",
       "    </tr>\n",
       "    <tr>\n",
       "      <td>3</td>\n",
       "      <td>21</td>\n",
       "      <td>Senior</td>\n",
       "      <td>Natural Sciences (&amp; Math) / Geosciences</td>\n",
       "      <td>Houston, TX</td>\n",
       "      <td>180</td>\n",
       "      <td>68.0</td>\n",
       "      <td>Blue (#0066ff or around there)</td>\n",
       "      <td>6</td>\n",
       "      <td>30</td>\n",
       "      <td>60</td>\n",
       "      <td>6.00</td>\n",
       "      <td>0</td>\n",
       "      <td>40.0</td>\n",
       "      <td>yes</td>\n",
       "    </tr>\n",
       "    <tr>\n",
       "      <td>4</td>\n",
       "      <td>20</td>\n",
       "      <td>Junior</td>\n",
       "      <td>Business</td>\n",
       "      <td>Plano, TX</td>\n",
       "      <td>215</td>\n",
       "      <td>61.0</td>\n",
       "      <td>green</td>\n",
       "      <td>4</td>\n",
       "      <td>0</td>\n",
       "      <td>30</td>\n",
       "      <td>7.00</td>\n",
       "      <td>2</td>\n",
       "      <td>340.0</td>\n",
       "      <td>Yes</td>\n",
       "    </tr>\n",
       "    <tr>\n",
       "      <td>...</td>\n",
       "      <td>...</td>\n",
       "      <td>...</td>\n",
       "      <td>...</td>\n",
       "      <td>...</td>\n",
       "      <td>...</td>\n",
       "      <td>...</td>\n",
       "      <td>...</td>\n",
       "      <td>...</td>\n",
       "      <td>...</td>\n",
       "      <td>...</td>\n",
       "      <td>...</td>\n",
       "      <td>...</td>\n",
       "      <td>...</td>\n",
       "      <td>...</td>\n",
       "    </tr>\n",
       "    <tr>\n",
       "      <td>107</td>\n",
       "      <td>20</td>\n",
       "      <td>Junior</td>\n",
       "      <td>Natural Sciences (&amp; Math) / Geosciences</td>\n",
       "      <td>Rio Grande City</td>\n",
       "      <td>312</td>\n",
       "      <td>67.0</td>\n",
       "      <td>Scarlet</td>\n",
       "      <td>9</td>\n",
       "      <td>65</td>\n",
       "      <td>100</td>\n",
       "      <td>8.25</td>\n",
       "      <td>2</td>\n",
       "      <td>0.0</td>\n",
       "      <td>Yes</td>\n",
       "    </tr>\n",
       "    <tr>\n",
       "      <td>108</td>\n",
       "      <td>20</td>\n",
       "      <td>Senior</td>\n",
       "      <td>Engineering</td>\n",
       "      <td>Houston</td>\n",
       "      <td>?</td>\n",
       "      <td>69.0</td>\n",
       "      <td>Blue</td>\n",
       "      <td>5</td>\n",
       "      <td>0</td>\n",
       "      <td>180</td>\n",
       "      <td>7.00</td>\n",
       "      <td>2</td>\n",
       "      <td>15.0</td>\n",
       "      <td>Yes. I always eat breakfast. I will take my br...</td>\n",
       "    </tr>\n",
       "    <tr>\n",
       "      <td>109</td>\n",
       "      <td>20</td>\n",
       "      <td>Junior</td>\n",
       "      <td>Business</td>\n",
       "      <td>California</td>\n",
       "      <td>1593</td>\n",
       "      <td>72.0</td>\n",
       "      <td>blue</td>\n",
       "      <td>8</td>\n",
       "      <td>30</td>\n",
       "      <td>60</td>\n",
       "      <td>480.00</td>\n",
       "      <td>1</td>\n",
       "      <td>0.0</td>\n",
       "      <td>yes</td>\n",
       "    </tr>\n",
       "    <tr>\n",
       "      <td>110</td>\n",
       "      <td>20</td>\n",
       "      <td>Junior</td>\n",
       "      <td>Natural Sciences (&amp; Math) / Geosciences</td>\n",
       "      <td>Austin, TX</td>\n",
       "      <td>0</td>\n",
       "      <td>68.0</td>\n",
       "      <td>Red</td>\n",
       "      <td>6</td>\n",
       "      <td>60</td>\n",
       "      <td>300</td>\n",
       "      <td>8.00</td>\n",
       "      <td>1</td>\n",
       "      <td>0.0</td>\n",
       "      <td>No</td>\n",
       "    </tr>\n",
       "    <tr>\n",
       "      <td>111</td>\n",
       "      <td>?</td>\n",
       "      <td>Senior</td>\n",
       "      <td>Engineering</td>\n",
       "      <td>Plano, TX</td>\n",
       "      <td>200</td>\n",
       "      <td>72.0</td>\n",
       "      <td>Blue</td>\n",
       "      <td>3</td>\n",
       "      <td>0</td>\n",
       "      <td>36</td>\n",
       "      <td>7.00</td>\n",
       "      <td>1</td>\n",
       "      <td>0.0</td>\n",
       "      <td>Yes</td>\n",
       "    </tr>\n",
       "  </tbody>\n",
       "</table>\n",
       "<p>112 rows × 14 columns</p>\n",
       "</div>"
      ],
      "text/plain": [
       "    How old are you? What year are you in school?  \\\n",
       "0                 22                       Senior   \n",
       "1                 22                       Senior   \n",
       "2                 21                       Senior   \n",
       "3                 21                       Senior   \n",
       "4                 20                       Junior   \n",
       "..               ...                          ...   \n",
       "107               20                       Junior   \n",
       "108               20                       Senior   \n",
       "109               20                       Junior   \n",
       "110               20                       Junior   \n",
       "111                ?                       Senior   \n",
       "\n",
       "                         What is your major? What is your hometown?  \\\n",
       "0                   Fine Arts / Architecture          Austin, Texas   \n",
       "1    Natural Sciences (& Math) / Geosciences            Houston, TX   \n",
       "2                               Liberal Arts                Houston   \n",
       "3    Natural Sciences (& Math) / Geosciences            Houston, TX   \n",
       "4                                   Business              Plano, TX   \n",
       "..                                       ...                    ...   \n",
       "107  Natural Sciences (& Math) / Geosciences        Rio Grande City   \n",
       "108                              Engineering                Houston   \n",
       "109                                 Business             California   \n",
       "110  Natural Sciences (& Math) / Geosciences             Austin, TX   \n",
       "111                              Engineering              Plano, TX   \n",
       "\n",
       "    How many miles is your hometown from Austin?  How tall are you in inches?  \\\n",
       "0                                              0                         72.0   \n",
       "1                                          165.2                         69.0   \n",
       "2                                            165                         68.0   \n",
       "3                                            180                         68.0   \n",
       "4                                            215                         61.0   \n",
       "..                                           ...                          ...   \n",
       "107                                          312                         67.0   \n",
       "108                                            ?                         69.0   \n",
       "109                                         1593                         72.0   \n",
       "110                                            0                         68.0   \n",
       "111                                          200                         72.0   \n",
       "\n",
       "       What is your favorite color? How many pairs of shoes do you own?  \\\n",
       "0                     Sapphire blue                                   5   \n",
       "1                              Blue                                   5   \n",
       "2                               Red                                  15   \n",
       "3    Blue (#0066ff or around there)                                   6   \n",
       "4                             green                                   4   \n",
       "..                              ...                                 ...   \n",
       "107                         Scarlet                                   9   \n",
       "108                            Blue                                   5   \n",
       "109                            blue                                   8   \n",
       "110                             Red                                   6   \n",
       "111                            Blue                                   3   \n",
       "\n",
       "     How many MINUTES did you spend exercising yesterday?  \\\n",
       "0                                                    0      \n",
       "1                                                   10      \n",
       "2                                                   45      \n",
       "3                                                   30      \n",
       "4                                                    0      \n",
       "..                                                 ...      \n",
       "107                                                 65      \n",
       "108                                                  0      \n",
       "109                                                 30      \n",
       "110                                                 60      \n",
       "111                                                  0      \n",
       "\n",
       "    How many MINUTES did you spend on the computer yesterday?  \\\n",
       "0                                                  480          \n",
       "1                                                  300          \n",
       "2                                                  120          \n",
       "3                                                   60          \n",
       "4                                                   30          \n",
       "..                                                 ...          \n",
       "107                                                100          \n",
       "108                                                180          \n",
       "109                                                 60          \n",
       "110                                                300          \n",
       "111                                                 36          \n",
       "\n",
       "     How many HOURS did you sleep last night?  How many siblings do you have?  \\\n",
       "0                                        7.50                               2   \n",
       "1                                       10.00                               1   \n",
       "2                                      360.00                               2   \n",
       "3                                        6.00                               0   \n",
       "4                                        7.00                               2   \n",
       "..                                        ...                             ...   \n",
       "107                                      8.25                               2   \n",
       "108                                      7.00                               2   \n",
       "109                                    480.00                               1   \n",
       "110                                      8.00                               1   \n",
       "111                                      7.00                               1   \n",
       "\n",
       "     How much cash do you have on you right now?  \\\n",
       "0                                           21.0   \n",
       "1                                           15.0   \n",
       "2                                          120.0   \n",
       "3                                           40.0   \n",
       "4                                          340.0   \n",
       "..                                           ...   \n",
       "107                                          0.0   \n",
       "108                                         15.0   \n",
       "109                                          0.0   \n",
       "110                                          0.0   \n",
       "111                                          0.0   \n",
       "\n",
       "                   Did you eat breakfast this morning?  \n",
       "0                                              Not yet  \n",
       "1                                                 yes!  \n",
       "2                                                   No  \n",
       "3                                                 yes   \n",
       "4                                                  Yes  \n",
       "..                                                 ...  \n",
       "107                                                Yes  \n",
       "108  Yes. I always eat breakfast. I will take my br...  \n",
       "109                                                yes  \n",
       "110                                                 No  \n",
       "111                                                Yes  \n",
       "\n",
       "[112 rows x 14 columns]"
      ]
     },
     "execution_count": 10,
     "metadata": {},
     "output_type": "execute_result"
    }
   ],
   "source": [
    "import pandas as pd\n",
    "import numpy as np\n",
    "import matplotlib.pyplot as plt\n",
    "# Enable inline mode for matplotlib so that Jupyter displays graphs\n",
    "%matplotlib inline\n",
    "\n",
    "# your code goes here\n",
    "data = pd.read_csv('329E_Spring2020_Data-1.csv')\n",
    "data"
   ]
  },
  {
   "cell_type": "markdown",
   "metadata": {},
   "source": [
    "### 1.3 Missing Values\n",
    "\n",
    "The missing values should now be encoded as '?'. \n",
    "\n",
    "* First, convert the missing values to NaNs. \n",
    "* Then, display the number of missing values in each column of the data."
   ]
  },
  {
   "cell_type": "code",
   "execution_count": 11,
   "metadata": {
    "scrolled": true
   },
   "outputs": [
    {
     "name": "stdout",
     "output_type": "stream",
     "text": [
      "There are 1 missing values in column How old are you?.\n",
      "There are 0 missing values in column What year are you in school?.\n",
      "There are 0 missing values in column What is your major?.\n",
      "There are 0 missing values in column What is your hometown?.\n",
      "There are 4 missing values in column How many miles is your hometown from Austin?.\n",
      "There are 0 missing values in column How tall are you in inches?.\n",
      "There are 0 missing values in column What is your favorite color?.\n",
      "There are 4 missing values in column How many pairs of shoes do you own?.\n",
      "There are 0 missing values in column How many MINUTES did you spend exercising yesterday?.\n",
      "There are 1 missing values in column How many MINUTES did you spend on the computer yesterday?.\n",
      "There are 0 missing values in column How many HOURS did you sleep last night?.\n",
      "There are 0 missing values in column How many siblings do you have?.\n",
      "There are 0 missing values in column How much cash do you have on you right now?.\n",
      "There are 0 missing values in column Did you eat breakfast this morning?.\n"
     ]
    }
   ],
   "source": [
    "# your code goes here\n",
    "data = data.replace('?', np.nan)\n",
    "for col in data:\n",
    "    na_count = list(data[col]).count(np.nan)\n",
    "    print(f'There are {na_count} missing values in column {col}.')"
   ]
  },
  {
   "cell_type": "markdown",
   "metadata": {},
   "source": [
    "### 1.4 Imputation\n",
    "\n",
    "One option for handling missing values is to fill them in with a \"reasonable\" estimation. This is called **imputation**. Mean or median values could be used for imputation of numeric attributes. Mode could be used for categorical imputation. Or mabye there is another value that makes sense for the data, like 0. \n",
    "\n",
    "Replace any missing values in the age column with something reasonable.\n",
    "\n",
    "You will need to convert the data from strings to numeric values first. This line of code is provided for you."
   ]
  },
  {
   "cell_type": "code",
   "execution_count": 24,
   "metadata": {
    "scrolled": false
   },
   "outputs": [],
   "source": [
    "# convert the column into numeric values first\n",
    "data['How many pairs of shoes do you own?'] = pd.to_numeric(data['How many pairs of shoes do you own?'])\n",
    "\n",
    "# your code goes here\n",
    "median = data['How many pairs of shoes do you own?'].median()\n",
    "data['How many pairs of shoes do you own?'].fillna(median, inplace=True)"
   ]
  },
  {
   "cell_type": "markdown",
   "metadata": {},
   "source": [
    "## 2. Exploratory Data Analysis (EDA)\n",
    "An important first step to every data analysis project is to explore your data. You need to have a good understanding of what is in your data. What are the ranges & distributions of the values, do you have any extreme values, are there any correlations between any of the features, etc. You just want to know and understand what you are working with."
   ]
  },
  {
   "cell_type": "markdown",
   "metadata": {},
   "source": [
    "### 2.1 Univariate Analysis: Explore the age feature\n",
    "* Display some measures of central tendency for age\n",
    "* Display some measures of dispersion for age\n",
    "* Show a distribution of this feature with either a plot or a table.\n",
    "* Are there any outliers? Show this with a plot."
   ]
  },
  {
   "cell_type": "code",
   "execution_count": 62,
   "metadata": {
    "scrolled": true
   },
   "outputs": [
    {
     "name": "stdout",
     "output_type": "stream",
     "text": [
      "unique ages: [20. 21. 22. 23. 24. nan]\n",
      "median age: 21.0\n",
      "mode age: 0    21.0\n",
      "dtype: float64\n",
      "              age\n",
      "count  111.000000\n",
      "mean    21.369369\n",
      "std      0.923707\n",
      "min     20.000000\n",
      "25%     21.000000\n",
      "50%     21.000000\n",
      "75%     22.000000\n",
      "max     24.000000\n",
      "The boxplot function calculates the datum of 24 years old to be an outlier.\n"
     ]
    },
    {
     "data": {
      "image/png": "[encoded data removed]",
      "text/plain": [
       "<Figure size 432x288 with 1 Axes>"
      ]
     },
     "metadata": {
      "needs_background": "light"
     },
     "output_type": "display_data"
    }
   ],
   "source": [
    "# convert the column into numeric values first\n",
    "data['How old are you?'] = pd.to_numeric(data['How old are you?'])\n",
    "\n",
    "# your code goes here\n",
    "age = pd.DataFrame(data=data['How old are you?'], index=data.index)\n",
    "age = age.rename(columns={'How old are you?':'age'})\n",
    "age_col = age['age'].sort_values()\n",
    "print(f'unique ages: {age_col.unique()}')\n",
    "print(f'median age: {age_col.median()}')\n",
    "print(f'mode age: {age_col.mode()}')\n",
    "print(age.describe())\n",
    "age_col.plot(kind='box', title='age')\n",
    "print('The boxplot function calculates the datum of 24 years old to be an outlier.')"
   ]
  },
  {
   "cell_type": "markdown",
   "metadata": {},
   "source": [
    "### 2.2 Bivariate Analysis: Correlate two features\n",
    "I suspect there may be a negative correlation between time spent on the computer and time spent exercising (the more time you spend on the computer, the less time you spend excercising). Let's examine the data to see if this is the case..."
   ]
  },
  {
   "cell_type": "markdown",
   "metadata": {},
   "source": [
    "Create a plot of computer time vs exercise time to see if you can visually see a correlation. Does there appear to be a correlation? Do there appear to be any bivariate outliers?"
   ]
  },
  {
   "cell_type": "code",
   "execution_count": 64,
   "metadata": {},
   "outputs": [
    {
     "data": {
      "text/plain": [
       "<matplotlib.axes._subplots.AxesSubplot at 0x7f35b4157210>"
      ]
     },
     "execution_count": 64,
     "metadata": {},
     "output_type": "execute_result"
    },
    {
     "data": {
      "image/png": "[encoded data removed]",
      "text/plain": [
       "<Figure size 432x288 with 1 Axes>"
      ]
     },
     "metadata": {
      "needs_background": "light"
     },
     "output_type": "display_data"
    }
   ],
   "source": [
    "# your code goes here\n",
    "data['How many MINUTES did you spend exercising yesterday?'] = pd.to_numeric(data['How many MINUTES did you spend exercising yesterday?'])\n",
    "data['How many MINUTES did you spend on the computer yesterday?'] = pd.to_numeric(data['How many MINUTES did you spend on the computer yesterday?'])\n",
    "data.plot.scatter(x='How many MINUTES did you spend exercising yesterday?',\n",
    "                 y='How many MINUTES did you spend on the computer yesterday?')"
   ]
  },
  {
   "cell_type": "markdown",
   "metadata": {},
   "source": [
    "### 2.3 Keep Exploring...\n",
    "Continue to explore the data. See if you can find anything interesting!"
   ]
  },
  {
   "cell_type": "code",
   "execution_count": null,
   "metadata": {},
   "outputs": [],
   "source": [
    "# your code goes here"
   ]
  }
 ],
 "metadata": {
  "kernelspec": {
   "display_name": "Python 3",
   "language": "python",
   "name": "python3"
  },
  "language_info": {
   "codemirror_mode": {
    "name": "ipython",
    "version": 3
   },
   "file_extension": ".py",
   "mimetype": "text/x-python",
   "name": "python",
   "nbconvert_exporter": "python",
   "pygments_lexer": "ipython3",
   "version": "3.7.4"
  }
 },
 "nbformat": 4,
 "nbformat_minor": 2
}
